{
 "cells": [
  {
   "cell_type": "markdown",
   "metadata": {},
   "source": [
    "### **Capstone Project - The Battle of Neighborhoods**\n",
    "##### Jana Sajgalik\n",
    "\n",
    "----"
   ]
  },
  {
   "cell_type": "markdown",
   "metadata": {},
   "source": [
    "Paris, also called a city of love, is a capital city of France and each year attracts several million tourists from around the world. \n",
    "\n",
    "France is also well known for its cuisine. Given the mix of nationalities living in and visiting its capital city, there is demand for other world cuisines than traditional French one.\n",
    "\n",
    "We will explore the data from Forsquare in order to help an investor decide where to open a restaurant.\n",
    "\n",
    "To achieve this, we will look at:\n",
    "- what restaurants are popular in Paris,\n",
    "- where are these restaurants located (Paris can be divided into 20 administrative districts, called 'arrondissements')"
   ]
  }
 ],
 "metadata": {
  "kernelspec": {
   "display_name": "Python 3",
   "language": "python",
   "name": "python3"
  },
  "language_info": {
   "codemirror_mode": {
    "name": "ipython",
    "version": 3
   },
   "file_extension": ".py",
   "mimetype": "text/x-python",
   "name": "python",
   "nbconvert_exporter": "python",
   "pygments_lexer": "ipython3",
   "version": "3.7.6"
  }
 },
 "nbformat": 4,
 "nbformat_minor": 4
}
